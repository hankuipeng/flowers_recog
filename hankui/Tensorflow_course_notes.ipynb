{
 "cells": [
  {
   "cell_type": "markdown",
   "metadata": {},
   "source": [
    "Week 1 materials:"
   ]
  },
  {
   "cell_type": "code",
   "execution_count": 1,
   "metadata": {},
   "outputs": [],
   "source": [
    "import tensorflow as tf\n",
    "import numpy as np\n",
    "from tensorflow import keras"
   ]
  },
  {
   "cell_type": "code",
   "execution_count": 10,
   "metadata": {},
   "outputs": [
    {
     "name": "stdout",
     "output_type": "stream",
     "text": [
      "1.13.1\n"
     ]
    }
   ],
   "source": [
    "print(tf.__version__)"
   ]
  },
  {
   "cell_type": "code",
   "execution_count": 2,
   "metadata": {},
   "outputs": [
    {
     "name": "stdout",
     "output_type": "stream",
     "text": [
      "WARNING:tensorflow:From /home/hankui/.local/lib/python3.6/site-packages/tensorflow/python/ops/resource_variable_ops.py:435: colocate_with (from tensorflow.python.framework.ops) is deprecated and will be removed in a future version.\n",
      "Instructions for updating:\n",
      "Colocations handled automatically by placer.\n",
      "WARNING:tensorflow:From /home/hankui/.local/lib/python3.6/site-packages/tensorflow/python/keras/utils/losses_utils.py:170: to_float (from tensorflow.python.ops.math_ops) is deprecated and will be removed in a future version.\n",
      "Instructions for updating:\n",
      "Use tf.cast instead.\n",
      "WARNING:tensorflow:From /home/hankui/.local/lib/python3.6/site-packages/tensorflow/python/ops/math_ops.py:3066: to_int32 (from tensorflow.python.ops.math_ops) is deprecated and will be removed in a future version.\n",
      "Instructions for updating:\n",
      "Use tf.cast instead.\n",
      "Epoch 1/100\n",
      "6/6 [==============================] - 1s 154ms/sample - loss: 32.6848\n",
      "Epoch 2/100\n",
      "6/6 [==============================] - 0s 573us/sample - loss: 15.1306\n",
      "Epoch 3/100\n",
      "6/6 [==============================] - 0s 658us/sample - loss: 7.0060\n",
      "Epoch 4/100\n",
      "6/6 [==============================] - 0s 628us/sample - loss: 3.2457\n",
      "Epoch 5/100\n",
      "6/6 [==============================] - 0s 1ms/sample - loss: 1.5052\n",
      "Epoch 6/100\n",
      "6/6 [==============================] - 0s 862us/sample - loss: 0.6997\n",
      "Epoch 7/100\n",
      "6/6 [==============================] - 0s 470us/sample - loss: 0.3268\n",
      "Epoch 8/100\n",
      "6/6 [==============================] - 0s 650us/sample - loss: 0.1543\n",
      "Epoch 9/100\n",
      "6/6 [==============================] - 0s 396us/sample - loss: 0.0744\n",
      "Epoch 10/100\n",
      "6/6 [==============================] - 0s 273us/sample - loss: 0.0373\n",
      "Epoch 11/100\n",
      "6/6 [==============================] - 0s 235us/sample - loss: 0.0202\n",
      "Epoch 12/100\n",
      "6/6 [==============================] - 0s 290us/sample - loss: 0.0122\n",
      "Epoch 13/100\n",
      "6/6 [==============================] - 0s 196us/sample - loss: 0.0085\n",
      "Epoch 14/100\n",
      "6/6 [==============================] - 0s 267us/sample - loss: 0.0068\n",
      "Epoch 15/100\n",
      "6/6 [==============================] - 0s 233us/sample - loss: 0.0060\n",
      "Epoch 16/100\n",
      "6/6 [==============================] - 0s 219us/sample - loss: 0.0056\n",
      "Epoch 17/100\n",
      "6/6 [==============================] - 0s 170us/sample - loss: 0.0054\n",
      "Epoch 18/100\n",
      "6/6 [==============================] - 0s 170us/sample - loss: 0.0053\n",
      "Epoch 19/100\n",
      "6/6 [==============================] - 0s 153us/sample - loss: 0.0052\n",
      "Epoch 20/100\n",
      "6/6 [==============================] - 0s 142us/sample - loss: 0.0051\n",
      "Epoch 21/100\n",
      "6/6 [==============================] - 0s 273us/sample - loss: 0.0051\n",
      "Epoch 22/100\n",
      "6/6 [==============================] - 0s 374us/sample - loss: 0.0050\n",
      "Epoch 23/100\n",
      "6/6 [==============================] - 0s 279us/sample - loss: 0.0050\n",
      "Epoch 24/100\n",
      "6/6 [==============================] - 0s 230us/sample - loss: 0.0050\n",
      "Epoch 25/100\n",
      "6/6 [==============================] - 0s 170us/sample - loss: 0.0049\n",
      "Epoch 26/100\n",
      "6/6 [==============================] - 0s 161us/sample - loss: 0.0049\n",
      "Epoch 27/100\n",
      "6/6 [==============================] - 0s 170us/sample - loss: 0.0049\n",
      "Epoch 28/100\n",
      "6/6 [==============================] - 0s 158us/sample - loss: 0.0048\n",
      "Epoch 29/100\n",
      "6/6 [==============================] - 0s 234us/sample - loss: 0.0048\n",
      "Epoch 30/100\n",
      "6/6 [==============================] - 0s 296us/sample - loss: 0.0048\n",
      "Epoch 31/100\n",
      "6/6 [==============================] - 0s 359us/sample - loss: 0.0047\n",
      "Epoch 32/100\n",
      "6/6 [==============================] - 0s 273us/sample - loss: 0.0047\n",
      "Epoch 33/100\n",
      "6/6 [==============================] - 0s 226us/sample - loss: 0.0047\n",
      "Epoch 34/100\n",
      "6/6 [==============================] - 0s 211us/sample - loss: 0.0046\n",
      "Epoch 35/100\n",
      "6/6 [==============================] - 0s 222us/sample - loss: 0.0046\n",
      "Epoch 36/100\n",
      "6/6 [==============================] - 0s 209us/sample - loss: 0.0046\n",
      "Epoch 37/100\n",
      "6/6 [==============================] - 0s 438us/sample - loss: 0.0045\n",
      "Epoch 38/100\n",
      "6/6 [==============================] - 0s 333us/sample - loss: 0.0045\n",
      "Epoch 39/100\n",
      "6/6 [==============================] - 0s 248us/sample - loss: 0.0045\n",
      "Epoch 40/100\n",
      "6/6 [==============================] - 0s 168us/sample - loss: 0.0044\n",
      "Epoch 41/100\n",
      "6/6 [==============================] - 0s 155us/sample - loss: 0.0044\n",
      "Epoch 42/100\n",
      "6/6 [==============================] - 0s 143us/sample - loss: 0.0044\n",
      "Epoch 43/100\n",
      "6/6 [==============================] - 0s 160us/sample - loss: 0.0043\n",
      "Epoch 44/100\n",
      "6/6 [==============================] - 0s 688us/sample - loss: 0.0043\n",
      "Epoch 45/100\n",
      "6/6 [==============================] - 0s 339us/sample - loss: 0.0043\n",
      "Epoch 46/100\n",
      "6/6 [==============================] - 0s 221us/sample - loss: 0.0042\n",
      "Epoch 47/100\n",
      "6/6 [==============================] - 0s 234us/sample - loss: 0.0042\n",
      "Epoch 48/100\n",
      "6/6 [==============================] - 0s 229us/sample - loss: 0.0042\n",
      "Epoch 49/100\n",
      "6/6 [==============================] - 0s 209us/sample - loss: 0.0041\n",
      "Epoch 50/100\n",
      "6/6 [==============================] - 0s 297us/sample - loss: 0.0041\n",
      "Epoch 51/100\n",
      "6/6 [==============================] - 0s 277us/sample - loss: 0.0041\n",
      "Epoch 52/100\n",
      "6/6 [==============================] - 0s 238us/sample - loss: 0.0040\n",
      "Epoch 53/100\n",
      "6/6 [==============================] - 0s 189us/sample - loss: 0.0040\n",
      "Epoch 54/100\n",
      "6/6 [==============================] - 0s 231us/sample - loss: 0.0040\n",
      "Epoch 55/100\n",
      "6/6 [==============================] - 0s 222us/sample - loss: 0.0040\n",
      "Epoch 56/100\n",
      "6/6 [==============================] - 0s 206us/sample - loss: 0.0039\n",
      "Epoch 57/100\n",
      "6/6 [==============================] - 0s 303us/sample - loss: 0.0039\n",
      "Epoch 58/100\n",
      "6/6 [==============================] - 0s 364us/sample - loss: 0.0039\n",
      "Epoch 59/100\n",
      "6/6 [==============================] - 0s 245us/sample - loss: 0.0038\n",
      "Epoch 60/100\n",
      "6/6 [==============================] - 0s 216us/sample - loss: 0.0038\n",
      "Epoch 61/100\n",
      "6/6 [==============================] - 0s 202us/sample - loss: 0.0038\n",
      "Epoch 62/100\n",
      "6/6 [==============================] - 0s 160us/sample - loss: 0.0038\n",
      "Epoch 63/100\n",
      "6/6 [==============================] - 0s 158us/sample - loss: 0.0037\n",
      "Epoch 64/100\n",
      "6/6 [==============================] - 0s 148us/sample - loss: 0.0037\n",
      "Epoch 65/100\n",
      "6/6 [==============================] - 0s 161us/sample - loss: 0.0037\n",
      "Epoch 66/100\n",
      "6/6 [==============================] - 0s 193us/sample - loss: 0.0037\n",
      "Epoch 67/100\n",
      "6/6 [==============================] - 0s 211us/sample - loss: 0.0036\n",
      "Epoch 68/100\n",
      "6/6 [==============================] - 0s 185us/sample - loss: 0.0036\n",
      "Epoch 69/100\n",
      "6/6 [==============================] - 0s 172us/sample - loss: 0.0036\n",
      "Epoch 70/100\n",
      "6/6 [==============================] - 0s 350us/sample - loss: 0.0035\n",
      "Epoch 71/100\n",
      "6/6 [==============================] - 0s 209us/sample - loss: 0.0035\n",
      "Epoch 72/100\n",
      "6/6 [==============================] - 0s 343us/sample - loss: 0.0035\n",
      "Epoch 73/100\n",
      "6/6 [==============================] - 0s 342us/sample - loss: 0.0035\n",
      "Epoch 74/100\n",
      "6/6 [==============================] - 0s 245us/sample - loss: 0.0034\n",
      "Epoch 75/100\n",
      "6/6 [==============================] - 0s 176us/sample - loss: 0.0034\n",
      "Epoch 76/100\n",
      "6/6 [==============================] - 0s 174us/sample - loss: 0.0034\n",
      "Epoch 77/100\n",
      "6/6 [==============================] - 0s 157us/sample - loss: 0.0034\n",
      "Epoch 78/100\n",
      "6/6 [==============================] - 0s 192us/sample - loss: 0.0033\n",
      "Epoch 79/100\n",
      "6/6 [==============================] - 0s 159us/sample - loss: 0.0033\n",
      "Epoch 80/100\n",
      "6/6 [==============================] - 0s 182us/sample - loss: 0.0033\n",
      "Epoch 81/100\n",
      "6/6 [==============================] - 0s 142us/sample - loss: 0.0033\n",
      "Epoch 82/100\n",
      "6/6 [==============================] - 0s 152us/sample - loss: 0.0033\n",
      "Epoch 83/100\n",
      "6/6 [==============================] - 0s 166us/sample - loss: 0.0032\n",
      "Epoch 84/100\n",
      "6/6 [==============================] - 0s 212us/sample - loss: 0.0032\n",
      "Epoch 85/100\n",
      "6/6 [==============================] - 0s 183us/sample - loss: 0.0032\n",
      "Epoch 86/100\n",
      "6/6 [==============================] - 0s 185us/sample - loss: 0.0032\n",
      "Epoch 87/100\n",
      "6/6 [==============================] - 0s 214us/sample - loss: 0.0031\n",
      "Epoch 88/100\n",
      "6/6 [==============================] - 0s 738us/sample - loss: 0.0031\n",
      "Epoch 89/100\n",
      "6/6 [==============================] - 0s 191us/sample - loss: 0.0031\n"
     ]
    },
    {
     "name": "stdout",
     "output_type": "stream",
     "text": [
      "Epoch 90/100\n",
      "6/6 [==============================] - 0s 228us/sample - loss: 0.0031\n",
      "Epoch 91/100\n",
      "6/6 [==============================] - 0s 229us/sample - loss: 0.0030\n",
      "Epoch 92/100\n",
      "6/6 [==============================] - 0s 197us/sample - loss: 0.0030\n",
      "Epoch 93/100\n",
      "6/6 [==============================] - 0s 154us/sample - loss: 0.0030\n",
      "Epoch 94/100\n",
      "6/6 [==============================] - 0s 153us/sample - loss: 0.0030\n",
      "Epoch 95/100\n",
      "6/6 [==============================] - 0s 146us/sample - loss: 0.0030\n",
      "Epoch 96/100\n",
      "6/6 [==============================] - 0s 138us/sample - loss: 0.0029\n",
      "Epoch 97/100\n",
      "6/6 [==============================] - 0s 141us/sample - loss: 0.0029\n",
      "Epoch 98/100\n",
      "6/6 [==============================] - 0s 149us/sample - loss: 0.0029\n",
      "Epoch 99/100\n",
      "6/6 [==============================] - 0s 186us/sample - loss: 0.0029\n",
      "Epoch 100/100\n",
      "6/6 [==============================] - 0s 147us/sample - loss: 0.0028\n"
     ]
    },
    {
     "data": {
      "text/plain": [
       "<tensorflow.python.keras.callbacks.History at 0x7f93f12079b0>"
      ]
     },
     "execution_count": 2,
     "metadata": {},
     "output_type": "execute_result"
    }
   ],
   "source": [
    "model = tf.keras.Sequential([keras.layers.Dense(units=1, input_shape=[1])])\n",
    "model.compile(optimizer='sgd', loss='mean_squared_error')\n",
    "\n",
    "xs = np.array([1.0, 2.0, 3.0, 4.0, 5.0, 6.0], dtype=float)\n",
    "ys = np.array([1.0, 1.5, 2.0, 2.5, 3.0, 3.5], dtype=float)\n",
    "\n",
    "model.fit(xs, ys, epochs=100)"
   ]
  },
  {
   "cell_type": "code",
   "execution_count": 3,
   "metadata": {},
   "outputs": [
    {
     "name": "stdout",
     "output_type": "stream",
     "text": [
      "[[4.0770016]]\n"
     ]
    }
   ],
   "source": [
    "print(model.predict([7.0]))"
   ]
  },
  {
   "cell_type": "markdown",
   "metadata": {},
   "source": [
    "Week 2 materials:"
   ]
  },
  {
   "cell_type": "code",
   "execution_count": 4,
   "metadata": {},
   "outputs": [],
   "source": [
    "fashion_mnist = tf.keras.datasets.fashion_mnist"
   ]
  },
  {
   "cell_type": "code",
   "execution_count": 6,
   "metadata": {},
   "outputs": [],
   "source": [
    "(train_images, train_labels), (test_images, test_labels) = fashion_mnist.load_data()"
   ]
  },
  {
   "cell_type": "code",
   "execution_count": 7,
   "metadata": {},
   "outputs": [],
   "source": [
    "import matplotlib.pyplot as plt "
   ]
  },
  {
   "cell_type": "code",
   "execution_count": 13,
   "metadata": {},
   "outputs": [],
   "source": [
    "train_images = train_images/255\n",
    "test_images = test_images/255"
   ]
  },
  {
   "cell_type": "code",
   "execution_count": 9,
   "metadata": {},
   "outputs": [],
   "source": [
    "model = tf.keras.Sequential([\n",
    "    keras.layers.Flatten(input_shape = (28,28)), # the shape that we should expect the data to be in \n",
    "    keras.layers.Dense(128, activation = tf.nn.relu),\n",
    "    keras.layers.Dense(10, activation = tf.nn.softmax)\n",
    "                            ])"
   ]
  },
  {
   "cell_type": "code",
   "execution_count": 22,
   "metadata": {
    "scrolled": true
   },
   "outputs": [
    {
     "data": {
      "text/plain": [
       "28"
      ]
     },
     "execution_count": 22,
     "metadata": {},
     "output_type": "execute_result"
    },
    {
     "data": {
      "image/png": "[encoded data removed]",
      "text/plain": [
       "<Figure size 432x288 with 1 Axes>"
      ]
     },
     "metadata": {
      "needs_background": "light"
     },
     "output_type": "display_data"
    }
   ],
   "source": [
    "plt.imshow(train_images[0])\n",
    "len(train_images[0])"
   ]
  },
  {
   "cell_type": "code",
   "execution_count": 23,
   "metadata": {},
   "outputs": [
    {
     "data": {
      "text/plain": [
       "60000"
      ]
     },
     "execution_count": 23,
     "metadata": {},
     "output_type": "execute_result"
    }
   ],
   "source": [
    "len(train_images)\n",
    "\n",
    "#print(type(train_images[0]))"
   ]
  },
  {
   "cell_type": "code",
   "execution_count": 24,
   "metadata": {},
   "outputs": [],
   "source": [
    "model.compile(optimizer = tf.train.AdamOptimizer(),\n",
    "             loss = 'sparse_categorical_crossentropy')"
   ]
  },
  {
   "cell_type": "code",
   "execution_count": 26,
   "metadata": {
    "scrolled": true
   },
   "outputs": [
    {
     "name": "stdout",
     "output_type": "stream",
     "text": [
      "Epoch 1/5\n",
      "60000/60000 [==============================] - 4s 66us/sample - loss: 0.4979\n",
      "Epoch 2/5\n",
      "60000/60000 [==============================] - 2s 36us/sample - loss: 0.3753\n",
      "Epoch 3/5\n",
      "60000/60000 [==============================] - 2s 37us/sample - loss: 0.3369\n",
      "Epoch 4/5\n",
      "60000/60000 [==============================] - 3s 46us/sample - loss: 0.3124\n",
      "Epoch 5/5\n",
      "60000/60000 [==============================] - 3s 47us/sample - loss: 0.2944\n"
     ]
    },
    {
     "data": {
      "text/plain": [
       "<tensorflow.python.keras.callbacks.History at 0x7f93983edeb8>"
      ]
     },
     "execution_count": 26,
     "metadata": {},
     "output_type": "execute_result"
    }
   ],
   "source": [
    "model.fit(train_images, train_labels,epochs=5)"
   ]
  },
  {
   "cell_type": "code",
   "execution_count": 27,
   "metadata": {},
   "outputs": [
    {
     "name": "stdout",
     "output_type": "stream",
     "text": [
      "10000/10000 [==============================] - 0s 26us/sample - loss: 0.3277\n"
     ]
    },
    {
     "data": {
      "text/plain": [
       "0.32770240602493284"
      ]
     },
     "execution_count": 27,
     "metadata": {},
     "output_type": "execute_result"
    }
   ],
   "source": [
    "model.evaluate(test_images, test_labels)"
   ]
  }
 ],
 "metadata": {
  "kernelspec": {
   "display_name": "Python 3",
   "language": "python",
   "name": "python3"
  },
  "language_info": {
   "codemirror_mode": {
    "name": "ipython",
    "version": 3
   },
   "file_extension": ".py",
   "mimetype": "text/x-python",
   "name": "python",
   "nbconvert_exporter": "python",
   "pygments_lexer": "ipython3",
   "version": "3.6.8"
  }
 },
 "nbformat": 4,
 "nbformat_minor": 2
}
